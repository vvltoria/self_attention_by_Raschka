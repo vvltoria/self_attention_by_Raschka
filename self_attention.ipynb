{
 "cells": [
  {
   "cell_type": "code",
   "execution_count": null,
   "id": "e0e67dad",
   "metadata": {},
   "outputs": [],
   "source": [
    "import torch"
   ]
  },
  {
   "cell_type": "markdown",
   "id": "d37d1610",
   "metadata": {},
   "source": [
    "##### input data"
   ]
  },
  {
   "cell_type": "code",
   "execution_count": 2,
   "id": "2272a17d",
   "metadata": {},
   "outputs": [],
   "source": [
    "input = 'Life is short, eat dessert first'\n",
    "\n",
    "sentence = input.replace(',', '').split()"
   ]
  },
  {
   "cell_type": "code",
   "execution_count": 3,
   "id": "e1abd389",
   "metadata": {},
   "outputs": [
    {
     "data": {
      "text/plain": [
       "['Life', 'is', 'short', 'eat', 'dessert', 'first']"
      ]
     },
     "execution_count": 3,
     "metadata": {},
     "output_type": "execute_result"
    }
   ],
   "source": [
    "sentence"
   ]
  },
  {
   "cell_type": "code",
   "execution_count": 5,
   "id": "40e3e717",
   "metadata": {},
   "outputs": [
    {
     "data": {
      "text/plain": [
       "{'Life': 0, 'dessert': 1, 'eat': 2, 'first': 3, 'is': 4, 'short': 5}"
      ]
     },
     "execution_count": 5,
     "metadata": {},
     "output_type": "execute_result"
    }
   ],
   "source": [
    "dc = {word:indx for indx, word in enumerate(sorted(sentence))}\n",
    "dc"
   ]
  },
  {
   "cell_type": "code",
   "execution_count": 6,
   "id": "b34c94d4",
   "metadata": {},
   "outputs": [
    {
     "data": {
      "text/plain": [
       "tensor([0, 4, 5, 2, 1, 3])"
      ]
     },
     "execution_count": 6,
     "metadata": {},
     "output_type": "execute_result"
    }
   ],
   "source": [
    "indexed_sentence = torch.tensor([dc[word] for word in sentence])\n",
    "\n",
    "indexed_sentence"
   ]
  },
  {
   "cell_type": "markdown",
   "id": "adf5710d",
   "metadata": {},
   "source": [
    "##### embeddings"
   ]
  },
  {
   "cell_type": "code",
   "execution_count": 10,
   "id": "bff029ba",
   "metadata": {},
   "outputs": [],
   "source": [
    "torch.manual_seed(123)\n",
    "\n",
    "embed = torch.nn.Embedding(6, 16)\n",
    "embed_sentence = embed(indexed_sentence).detach()"
   ]
  },
  {
   "cell_type": "code",
   "execution_count": 12,
   "id": "114c2516",
   "metadata": {},
   "outputs": [
    {
     "data": {
      "text/plain": [
       "(tensor([[ 0.3374, -0.1778, -0.3035, -0.5880,  0.3486,  0.6603, -0.2196, -0.3792,\n",
       "           0.7671, -1.1925,  0.6984, -1.4097,  0.1794,  1.8951,  0.4954,  0.2692],\n",
       "         [ 0.5146,  0.9938, -0.2587, -1.0826, -0.0444,  1.6236, -2.3229,  1.0878,\n",
       "           0.6716,  0.6933, -0.9487, -0.0765, -0.1526,  0.1167,  0.4403, -1.4465],\n",
       "         [ 0.2553, -0.5496,  1.0042,  0.8272, -0.3948,  0.4892, -0.2168, -1.7472,\n",
       "          -1.6025, -1.0764,  0.9031, -0.7218, -0.5951, -0.7112,  0.6230, -1.3729],\n",
       "         [-1.3250,  0.1784, -2.1338,  1.0524, -0.3885, -0.9343, -0.4991, -1.0867,\n",
       "           0.8805,  1.5542,  0.6266, -0.1755,  0.0983, -0.0935,  0.2662, -0.5850],\n",
       "         [-0.0770, -1.0205, -0.1690,  0.9178,  1.5810,  1.3010,  1.2753, -0.2010,\n",
       "           0.4965, -1.5723,  0.9666, -1.1481, -1.1589,  0.3255, -0.6315, -2.8400],\n",
       "         [ 0.8768,  1.6221, -1.4779,  1.1331, -1.2203,  1.3139,  1.0533,  0.1388,\n",
       "           2.2473, -0.8036, -0.2808,  0.7697, -0.6596, -0.7979,  0.1838,  0.2293]]),\n",
       " torch.Size([6, 16]))"
      ]
     },
     "execution_count": 12,
     "metadata": {},
     "output_type": "execute_result"
    }
   ],
   "source": [
    "embed_sentence, embed_sentence.size()"
   ]
  },
  {
   "cell_type": "markdown",
   "id": "fb0b3ff6",
   "metadata": {},
   "source": [
    "##### weight matrices"
   ]
  },
  {
   "cell_type": "code",
   "execution_count": 14,
   "id": "1911e889",
   "metadata": {},
   "outputs": [],
   "source": [
    "torch.manual_seed(123)\n",
    "\n",
    "\n",
    "d = embed_sentence.shape[1]\n",
    "\n",
    "d_q, d_k, d_v = 24, 24, 28\n",
    "\n",
    "W_query = torch.nn.Parameter(torch.rand(d_q, d))\n",
    "W_key = torch.nn.Parameter(torch.rand(d_k, d))\n",
    "W_value = torch.nn.Parameter(torch.rand(d_v, d))"
   ]
  },
  {
   "cell_type": "markdown",
   "id": "0c8ac4f9",
   "metadata": {},
   "source": [
    "##### computing the **unnormalized** attention weights (for 2 word)"
   ]
  },
  {
   "cell_type": "markdown",
   "id": "1949ffc8",
   "metadata": {},
   "source": [
    "    query; keys; values for the second word"
   ]
  },
  {
   "cell_type": "code",
   "execution_count": 16,
   "id": "2692315c",
   "metadata": {},
   "outputs": [],
   "source": [
    "x_2 = embed_sentence[1]\n",
    "\n",
    "query_2 = W_query.matmul(x_2)\n",
    "key_2 = W_key.matmul(x_2)\n",
    "value_2 = W_value.matmul(x_2)"
   ]
  },
  {
   "cell_type": "markdown",
   "id": "1ac9b0a7",
   "metadata": {},
   "source": [
    "    computing the remaining keys and values"
   ]
  },
  {
   "cell_type": "code",
   "execution_count": 17,
   "id": "1af6bba0",
   "metadata": {},
   "outputs": [],
   "source": [
    "keys = W_key.matmul(embed_sentence.T).T\n",
    "values = W_value.matmul(embed_sentence.T).T"
   ]
  },
  {
   "cell_type": "markdown",
   "id": "8085e4fd",
   "metadata": {},
   "source": [
    "    computing the ω values for all input tokens"
   ]
  },
  {
   "cell_type": "code",
   "execution_count": 22,
   "id": "e23f85af",
   "metadata": {},
   "outputs": [
    {
     "data": {
      "text/plain": [
       "torch.Size([24])"
      ]
     },
     "execution_count": 22,
     "metadata": {},
     "output_type": "execute_result"
    }
   ],
   "source": [
    "query_2.shape"
   ]
  },
  {
   "cell_type": "code",
   "execution_count": 20,
   "id": "67348198",
   "metadata": {},
   "outputs": [
    {
     "data": {
      "text/plain": [
       "(torch.Size([6, 24]), torch.Size([6, 28]))"
      ]
     },
     "execution_count": 20,
     "metadata": {},
     "output_type": "execute_result"
    }
   ],
   "source": [
    "keys.shape, values.shape"
   ]
  },
  {
   "cell_type": "code",
   "execution_count": 18,
   "id": "d79c8ce6",
   "metadata": {},
   "outputs": [
    {
     "data": {
      "text/plain": [
       "tensor([ 8.5808, -7.6597,  3.2558,  1.0395, 11.1466, -0.4800],\n",
       "       grad_fn=<SqueezeBackward4>)"
      ]
     },
     "execution_count": 18,
     "metadata": {},
     "output_type": "execute_result"
    }
   ],
   "source": [
    "omega_2 = query_2.matmul(keys.T)\n",
    "omega_2"
   ]
  },
  {
   "cell_type": "code",
   "execution_count": null,
   "id": "b3d55e02",
   "metadata": {},
   "outputs": [],
   "source": []
  },
  {
   "cell_type": "code",
   "execution_count": null,
   "id": "f604fbe2",
   "metadata": {},
   "outputs": [],
   "source": []
  },
  {
   "cell_type": "code",
   "execution_count": null,
   "id": "03ee4f93",
   "metadata": {},
   "outputs": [],
   "source": []
  }
 ],
 "metadata": {
  "kernelspec": {
   "display_name": ".venv",
   "language": "python",
   "name": "python3"
  },
  "language_info": {
   "codemirror_mode": {
    "name": "ipython",
    "version": 3
   },
   "file_extension": ".py",
   "mimetype": "text/x-python",
   "name": "python",
   "nbconvert_exporter": "python",
   "pygments_lexer": "ipython3",
   "version": "3.11.11"
  }
 },
 "nbformat": 4,
 "nbformat_minor": 5
}
